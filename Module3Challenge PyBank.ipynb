{
 "cells": [
  {
   "cell_type": "code",
   "execution_count": 1,
   "id": "84f1918a",
   "metadata": {},
   "outputs": [],
   "source": [
    "import pandas as pd\n",
    "from pathlib import Path"
   ]
  },
  {
   "cell_type": "code",
   "execution_count": 2,
   "id": "626948ce",
   "metadata": {},
   "outputs": [],
   "source": [
    "# Save the Path and Read the File "
   ]
  },
  {
   "cell_type": "code",
   "execution_count": 3,
   "id": "cdab8b5a",
   "metadata": {},
   "outputs": [],
   "source": [
    "data_file = Path(\"budget_data.csv\")"
   ]
  },
  {
   "cell_type": "code",
   "execution_count": 4,
   "id": "51c9f1f7",
   "metadata": {},
   "outputs": [
    {
     "data": {
      "text/html": [
       "<div>\n",
       "<style scoped>\n",
       "    .dataframe tbody tr th:only-of-type {\n",
       "        vertical-align: middle;\n",
       "    }\n",
       "\n",
       "    .dataframe tbody tr th {\n",
       "        vertical-align: top;\n",
       "    }\n",
       "\n",
       "    .dataframe thead th {\n",
       "        text-align: right;\n",
       "    }\n",
       "</style>\n",
       "<table border=\"1\" class=\"dataframe\">\n",
       "  <thead>\n",
       "    <tr style=\"text-align: right;\">\n",
       "      <th></th>\n",
       "      <th>Date</th>\n",
       "      <th>Profit/Losses</th>\n",
       "    </tr>\n",
       "  </thead>\n",
       "  <tbody>\n",
       "    <tr>\n",
       "      <th>0</th>\n",
       "      <td>Jan-10</td>\n",
       "      <td>1088983</td>\n",
       "    </tr>\n",
       "    <tr>\n",
       "      <th>1</th>\n",
       "      <td>Feb-10</td>\n",
       "      <td>-354534</td>\n",
       "    </tr>\n",
       "    <tr>\n",
       "      <th>2</th>\n",
       "      <td>Mar-10</td>\n",
       "      <td>276622</td>\n",
       "    </tr>\n",
       "    <tr>\n",
       "      <th>3</th>\n",
       "      <td>Apr-10</td>\n",
       "      <td>-728133</td>\n",
       "    </tr>\n",
       "    <tr>\n",
       "      <th>4</th>\n",
       "      <td>May-10</td>\n",
       "      <td>852993</td>\n",
       "    </tr>\n",
       "    <tr>\n",
       "      <th>...</th>\n",
       "      <td>...</td>\n",
       "      <td>...</td>\n",
       "    </tr>\n",
       "    <tr>\n",
       "      <th>81</th>\n",
       "      <td>Oct-16</td>\n",
       "      <td>-729004</td>\n",
       "    </tr>\n",
       "    <tr>\n",
       "      <th>82</th>\n",
       "      <td>Nov-16</td>\n",
       "      <td>-112209</td>\n",
       "    </tr>\n",
       "    <tr>\n",
       "      <th>83</th>\n",
       "      <td>Dec-16</td>\n",
       "      <td>516313</td>\n",
       "    </tr>\n",
       "    <tr>\n",
       "      <th>84</th>\n",
       "      <td>Jan-17</td>\n",
       "      <td>607208</td>\n",
       "    </tr>\n",
       "    <tr>\n",
       "      <th>85</th>\n",
       "      <td>Feb-17</td>\n",
       "      <td>382539</td>\n",
       "    </tr>\n",
       "  </tbody>\n",
       "</table>\n",
       "<p>86 rows × 2 columns</p>\n",
       "</div>"
      ],
      "text/plain": [
       "      Date  Profit/Losses\n",
       "0   Jan-10        1088983\n",
       "1   Feb-10        -354534\n",
       "2   Mar-10         276622\n",
       "3   Apr-10        -728133\n",
       "4   May-10         852993\n",
       "..     ...            ...\n",
       "81  Oct-16        -729004\n",
       "82  Nov-16        -112209\n",
       "83  Dec-16         516313\n",
       "84  Jan-17         607208\n",
       "85  Feb-17         382539\n",
       "\n",
       "[86 rows x 2 columns]"
      ]
     },
     "execution_count": 4,
     "metadata": {},
     "output_type": "execute_result"
    }
   ],
   "source": [
    "data_file_df = pd.read_csv(data_file)\n",
    "data_file_df"
   ]
  },
  {
   "cell_type": "code",
   "execution_count": 5,
   "id": "b62b8714",
   "metadata": {},
   "outputs": [],
   "source": [
    "#Total Months"
   ]
  },
  {
   "cell_type": "code",
   "execution_count": 6,
   "id": "ac272802",
   "metadata": {},
   "outputs": [
    {
     "data": {
      "text/plain": [
       "86"
      ]
     },
     "execution_count": 6,
     "metadata": {},
     "output_type": "execute_result"
    }
   ],
   "source": [
    "Total_Month = data_file_df['Date'].count()\n",
    "Total_Month"
   ]
  },
  {
   "cell_type": "code",
   "execution_count": 7,
   "id": "2a0edb5f",
   "metadata": {},
   "outputs": [],
   "source": [
    "#Total Profil Loss"
   ]
  },
  {
   "cell_type": "code",
   "execution_count": 8,
   "id": "07c6864c",
   "metadata": {},
   "outputs": [],
   "source": [
    "Total = data_file_df['Profit/Losses'].sum()"
   ]
  },
  {
   "cell_type": "code",
   "execution_count": 9,
   "id": "7e6a319b",
   "metadata": {},
   "outputs": [
    {
     "name": "stdout",
     "output_type": "stream",
     "text": [
      "$22564198\n"
     ]
    }
   ],
   "source": [
    "print(f'${Total}') "
   ]
  },
  {
   "cell_type": "code",
   "execution_count": 10,
   "id": "167cd603",
   "metadata": {},
   "outputs": [],
   "source": [
    "# To find the change in Profit/Loss"
   ]
  },
  {
   "cell_type": "code",
   "execution_count": 11,
   "id": "39b09773",
   "metadata": {},
   "outputs": [],
   "source": [
    "Difference_between_PL = data_file_df['Profit/Losses'].diff()"
   ]
  },
  {
   "cell_type": "code",
   "execution_count": 12,
   "id": "ddffbd39",
   "metadata": {},
   "outputs": [
    {
     "data": {
      "text/plain": [
       "0           NaN\n",
       "1    -1443517.0\n",
       "2      631156.0\n",
       "3    -1004755.0\n",
       "4     1581126.0\n",
       "        ...    \n",
       "81   -1627245.0\n",
       "82     616795.0\n",
       "83     628522.0\n",
       "84      90895.0\n",
       "85    -224669.0\n",
       "Name: Profit/Losses, Length: 86, dtype: float64"
      ]
     },
     "execution_count": 12,
     "metadata": {},
     "output_type": "execute_result"
    }
   ],
   "source": [
    "Difference_between_PL"
   ]
  },
  {
   "cell_type": "code",
   "execution_count": 13,
   "id": "13a6a673",
   "metadata": {},
   "outputs": [],
   "source": [
    "#Add Difference column to DF"
   ]
  },
  {
   "cell_type": "code",
   "execution_count": 14,
   "id": "30f293db",
   "metadata": {},
   "outputs": [],
   "source": [
    "data_file_df[\"Difference_between_PL\"]= Difference_between_PL"
   ]
  },
  {
   "cell_type": "code",
   "execution_count": 15,
   "id": "145f9d0e",
   "metadata": {},
   "outputs": [
    {
     "data": {
      "text/html": [
       "<div>\n",
       "<style scoped>\n",
       "    .dataframe tbody tr th:only-of-type {\n",
       "        vertical-align: middle;\n",
       "    }\n",
       "\n",
       "    .dataframe tbody tr th {\n",
       "        vertical-align: top;\n",
       "    }\n",
       "\n",
       "    .dataframe thead th {\n",
       "        text-align: right;\n",
       "    }\n",
       "</style>\n",
       "<table border=\"1\" class=\"dataframe\">\n",
       "  <thead>\n",
       "    <tr style=\"text-align: right;\">\n",
       "      <th></th>\n",
       "      <th>Date</th>\n",
       "      <th>Profit/Losses</th>\n",
       "      <th>Difference_between_PL</th>\n",
       "    </tr>\n",
       "  </thead>\n",
       "  <tbody>\n",
       "    <tr>\n",
       "      <th>0</th>\n",
       "      <td>Jan-10</td>\n",
       "      <td>1088983</td>\n",
       "      <td>NaN</td>\n",
       "    </tr>\n",
       "    <tr>\n",
       "      <th>1</th>\n",
       "      <td>Feb-10</td>\n",
       "      <td>-354534</td>\n",
       "      <td>-1443517.0</td>\n",
       "    </tr>\n",
       "    <tr>\n",
       "      <th>2</th>\n",
       "      <td>Mar-10</td>\n",
       "      <td>276622</td>\n",
       "      <td>631156.0</td>\n",
       "    </tr>\n",
       "    <tr>\n",
       "      <th>3</th>\n",
       "      <td>Apr-10</td>\n",
       "      <td>-728133</td>\n",
       "      <td>-1004755.0</td>\n",
       "    </tr>\n",
       "    <tr>\n",
       "      <th>4</th>\n",
       "      <td>May-10</td>\n",
       "      <td>852993</td>\n",
       "      <td>1581126.0</td>\n",
       "    </tr>\n",
       "    <tr>\n",
       "      <th>...</th>\n",
       "      <td>...</td>\n",
       "      <td>...</td>\n",
       "      <td>...</td>\n",
       "    </tr>\n",
       "    <tr>\n",
       "      <th>81</th>\n",
       "      <td>Oct-16</td>\n",
       "      <td>-729004</td>\n",
       "      <td>-1627245.0</td>\n",
       "    </tr>\n",
       "    <tr>\n",
       "      <th>82</th>\n",
       "      <td>Nov-16</td>\n",
       "      <td>-112209</td>\n",
       "      <td>616795.0</td>\n",
       "    </tr>\n",
       "    <tr>\n",
       "      <th>83</th>\n",
       "      <td>Dec-16</td>\n",
       "      <td>516313</td>\n",
       "      <td>628522.0</td>\n",
       "    </tr>\n",
       "    <tr>\n",
       "      <th>84</th>\n",
       "      <td>Jan-17</td>\n",
       "      <td>607208</td>\n",
       "      <td>90895.0</td>\n",
       "    </tr>\n",
       "    <tr>\n",
       "      <th>85</th>\n",
       "      <td>Feb-17</td>\n",
       "      <td>382539</td>\n",
       "      <td>-224669.0</td>\n",
       "    </tr>\n",
       "  </tbody>\n",
       "</table>\n",
       "<p>86 rows × 3 columns</p>\n",
       "</div>"
      ],
      "text/plain": [
       "      Date  Profit/Losses  Difference_between_PL\n",
       "0   Jan-10        1088983                    NaN\n",
       "1   Feb-10        -354534             -1443517.0\n",
       "2   Mar-10         276622               631156.0\n",
       "3   Apr-10        -728133             -1004755.0\n",
       "4   May-10         852993              1581126.0\n",
       "..     ...            ...                    ...\n",
       "81  Oct-16        -729004             -1627245.0\n",
       "82  Nov-16        -112209               616795.0\n",
       "83  Dec-16         516313               628522.0\n",
       "84  Jan-17         607208                90895.0\n",
       "85  Feb-17         382539              -224669.0\n",
       "\n",
       "[86 rows x 3 columns]"
      ]
     },
     "execution_count": 15,
     "metadata": {},
     "output_type": "execute_result"
    }
   ],
   "source": [
    "data_file_df"
   ]
  },
  {
   "cell_type": "code",
   "execution_count": 16,
   "id": "a5704b74",
   "metadata": {},
   "outputs": [],
   "source": [
    "#Average of the Change "
   ]
  },
  {
   "cell_type": "code",
   "execution_count": 17,
   "id": "3cafe6a4",
   "metadata": {},
   "outputs": [],
   "source": [
    "Average=data_file_df['Difference_between_PL'].mean()"
   ]
  },
  {
   "cell_type": "code",
   "execution_count": 18,
   "id": "23641a13",
   "metadata": {},
   "outputs": [
    {
     "name": "stdout",
     "output_type": "stream",
     "text": [
      "Average Change:$-8311.105882352942\n"
     ]
    }
   ],
   "source": [
    "print(f'Average Change:${Average}')"
   ]
  },
  {
   "cell_type": "code",
   "execution_count": 19,
   "id": "088daf19",
   "metadata": {},
   "outputs": [],
   "source": [
    "# Greatest increase in profits (date and amount) over the entire period"
   ]
  },
  {
   "cell_type": "code",
   "execution_count": 20,
   "id": "2f41b7fc",
   "metadata": {},
   "outputs": [],
   "source": [
    "Greatest_Increase = data_file_df['Difference_between_PL'].max()"
   ]
  },
  {
   "cell_type": "code",
   "execution_count": 21,
   "id": "56514038",
   "metadata": {},
   "outputs": [
    {
     "data": {
      "text/plain": [
       "1862002.0"
      ]
     },
     "execution_count": 21,
     "metadata": {},
     "output_type": "execute_result"
    }
   ],
   "source": [
    "Greatest_Increase"
   ]
  },
  {
   "cell_type": "code",
   "execution_count": 22,
   "id": "ad542355",
   "metadata": {},
   "outputs": [],
   "source": [
    "Greatest_Increase = round(int(Greatest_Increase))"
   ]
  },
  {
   "cell_type": "code",
   "execution_count": 23,
   "id": "378554c4",
   "metadata": {},
   "outputs": [],
   "source": [
    "GI = ( Greatest_Increase, data_file_df.loc[data_file_df[\"Difference_between_PL\"]== 1862002.0, \"Date\"].values[0])"
   ]
  },
  {
   "cell_type": "code",
   "execution_count": 24,
   "id": "fbf0b2b4",
   "metadata": {},
   "outputs": [],
   "source": [
    "# Greatest decrease in profits (date and amount) over the entire period"
   ]
  },
  {
   "cell_type": "code",
   "execution_count": 25,
   "id": "a87cbaff",
   "metadata": {},
   "outputs": [],
   "source": [
    "Greatest_decrease = data_file_df['Difference_between_PL'].min()"
   ]
  },
  {
   "cell_type": "code",
   "execution_count": 26,
   "id": "2ae264e9",
   "metadata": {},
   "outputs": [
    {
     "data": {
      "text/plain": [
       "-1825558.0"
      ]
     },
     "execution_count": 26,
     "metadata": {},
     "output_type": "execute_result"
    }
   ],
   "source": [
    "Greatest_decrease"
   ]
  },
  {
   "cell_type": "code",
   "execution_count": 27,
   "id": "c39ad658",
   "metadata": {},
   "outputs": [],
   "source": [
    "Greatest_decrease = round(int(Greatest_decrease))"
   ]
  },
  {
   "cell_type": "code",
   "execution_count": 28,
   "id": "bee735aa",
   "metadata": {},
   "outputs": [],
   "source": [
    "GD = ( Greatest_decrease, data_file_df.loc[data_file_df[\"Difference_between_PL\"]== -1825558.0, \"Date\"].values[0])"
   ]
  },
  {
   "cell_type": "code",
   "execution_count": 29,
   "id": "190b3369",
   "metadata": {},
   "outputs": [],
   "source": [
    "output = (\n",
    "    \n",
    "    f'\" Financial Analysis\\n\"'\n",
    "    f'\" ---------------------------------\\n\"'\n",
    "    f'\" Total Months :{Total_Month}\\n\"'\n",
    "    f'\" Total: ${Total}\\n\"'\n",
    "    f'\" Average Change :${Average:.2f}\\n\"'\n",
    "    f'\" Greatest Increase in Profits:${GI}\\n\"'\n",
    "    f'\" Greatese decrease in Profits:${GD}\\n\"')\n",
    "\n",
    "\n"
   ]
  },
  {
   "cell_type": "code",
   "execution_count": 30,
   "id": "c3f00c6e",
   "metadata": {},
   "outputs": [
    {
     "name": "stdout",
     "output_type": "stream",
     "text": [
      "\" Financial Analysis\n",
      "\"\" ---------------------------------\n",
      "\"\" Total Months :86\n",
      "\"\" Total: $22564198\n",
      "\"\" Average Change :$-8311.11\n",
      "\"\" Greatest Increase in Profits:$(1862002, 'Aug-16')\n",
      "\"\" Greatese decrease in Profits:$(-1825558, 'Feb-14')\n",
      "\"\n"
     ]
    }
   ],
   "source": [
    "#Print output to the terminal\n",
    "print(output)"
   ]
  },
  {
   "cell_type": "code",
   "execution_count": 31,
   "id": "1535ba5f",
   "metadata": {},
   "outputs": [],
   "source": [
    "with open('file.txt', \"w\") as txt_file:\n",
    "    txt_file.write(output)"
   ]
  },
  {
   "cell_type": "code",
   "execution_count": null,
   "id": "bd2b29f3",
   "metadata": {},
   "outputs": [],
   "source": []
  },
  {
   "cell_type": "code",
   "execution_count": null,
   "id": "5c9533fd",
   "metadata": {},
   "outputs": [],
   "source": []
  },
  {
   "cell_type": "code",
   "execution_count": null,
   "id": "0faa0d41",
   "metadata": {},
   "outputs": [],
   "source": []
  },
  {
   "cell_type": "code",
   "execution_count": null,
   "id": "3d0cb83a",
   "metadata": {},
   "outputs": [],
   "source": []
  },
  {
   "cell_type": "code",
   "execution_count": null,
   "id": "280f0bf1",
   "metadata": {},
   "outputs": [],
   "source": []
  },
  {
   "cell_type": "code",
   "execution_count": null,
   "id": "3ad14d0e",
   "metadata": {},
   "outputs": [],
   "source": []
  },
  {
   "cell_type": "code",
   "execution_count": null,
   "id": "1d134305",
   "metadata": {},
   "outputs": [],
   "source": []
  }
 ],
 "metadata": {
  "kernelspec": {
   "display_name": "Python 3 (ipykernel)",
   "language": "python",
   "name": "python3"
  },
  "language_info": {
   "codemirror_mode": {
    "name": "ipython",
    "version": 3
   },
   "file_extension": ".py",
   "mimetype": "text/x-python",
   "name": "python",
   "nbconvert_exporter": "python",
   "pygments_lexer": "ipython3",
   "version": "3.10.13"
  }
 },
 "nbformat": 4,
 "nbformat_minor": 5
}
