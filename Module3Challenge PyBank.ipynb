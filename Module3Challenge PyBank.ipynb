{
 "cells": [
  {
   "cell_type": "code",
   "execution_count": null,
   "id": "84f1918a",
   "metadata": {},
   "outputs": [],
   "source": [
    "import pandas as pd\n",
    "from pathlib import Path"
   ]
  },
  {
   "cell_type": "code",
   "execution_count": null,
   "id": "626948ce",
   "metadata": {},
   "outputs": [],
   "source": [
    "# Save the Path and Read the File "
   ]
  },
  {
   "cell_type": "code",
   "execution_count": null,
   "id": "cdab8b5a",
   "metadata": {},
   "outputs": [],
   "source": [
    "data_file = Path(\"budget_data.csv\")"
   ]
  },
  {
   "cell_type": "code",
   "execution_count": null,
   "id": "51c9f1f7",
   "metadata": {},
   "outputs": [],
   "source": [
    "data_file_df = pd.read_csv(data_file)\n",
    "data_file_df"
   ]
  },
  {
   "cell_type": "code",
   "execution_count": null,
   "id": "b62b8714",
   "metadata": {},
   "outputs": [],
   "source": [
    "#Total Months"
   ]
  },
  {
   "cell_type": "code",
   "execution_count": null,
   "id": "ac272802",
   "metadata": {},
   "outputs": [],
   "source": [
    "Total_Month = data_file_df['Date'].count()\n",
    "Total_Month"
   ]
  },
  {
   "cell_type": "code",
   "execution_count": null,
   "id": "2a0edb5f",
   "metadata": {},
   "outputs": [],
   "source": [
    "#Total Profil Loss"
   ]
  },
  {
   "cell_type": "code",
   "execution_count": null,
   "id": "07c6864c",
   "metadata": {},
   "outputs": [],
   "source": [
    "Total = data_file_df['Profit/Losses'].sum()"
   ]
  },
  {
   "cell_type": "code",
   "execution_count": null,
   "id": "7e6a319b",
   "metadata": {},
   "outputs": [],
   "source": [
    "print(f'${Total}') "
   ]
  },
  {
   "cell_type": "code",
   "execution_count": null,
   "id": "167cd603",
   "metadata": {},
   "outputs": [],
   "source": [
    "# To find the change in Profit/Loss"
   ]
  },
  {
   "cell_type": "code",
   "execution_count": null,
   "id": "39b09773",
   "metadata": {},
   "outputs": [],
   "source": [
    "Difference_between_PL = data_file_df['Profit/Losses'].diff()"
   ]
  },
  {
   "cell_type": "code",
   "execution_count": null,
   "id": "ddffbd39",
   "metadata": {},
   "outputs": [],
   "source": [
    "Difference_between_PL"
   ]
  },
  {
   "cell_type": "code",
   "execution_count": null,
   "id": "13a6a673",
   "metadata": {},
   "outputs": [],
   "source": [
    "#Add Difference column to DF"
   ]
  },
  {
   "cell_type": "code",
   "execution_count": null,
   "id": "30f293db",
   "metadata": {},
   "outputs": [],
   "source": [
    "data_file_df[\"Difference_between_PL\"]= Difference_between_PL"
   ]
  },
  {
   "cell_type": "code",
   "execution_count": null,
   "id": "145f9d0e",
   "metadata": {},
   "outputs": [],
   "source": [
    "data_file_df"
   ]
  },
  {
   "cell_type": "code",
   "execution_count": null,
   "id": "a5704b74",
   "metadata": {},
   "outputs": [],
   "source": [
    "#Average of the Change "
   ]
  },
  {
   "cell_type": "code",
   "execution_count": null,
   "id": "3cafe6a4",
   "metadata": {},
   "outputs": [],
   "source": [
    "Average=data_file_df['Difference_between_PL'].mean()"
   ]
  },
  {
   "cell_type": "code",
   "execution_count": null,
   "id": "23641a13",
   "metadata": {},
   "outputs": [],
   "source": [
    "print(f'Average Change:${Average}')"
   ]
  },
  {
   "cell_type": "code",
   "execution_count": null,
   "id": "088daf19",
   "metadata": {},
   "outputs": [],
   "source": [
    "# Greatest increase in profits (date and amount) over the entire period"
   ]
  },
  {
   "cell_type": "code",
   "execution_count": null,
   "id": "2f41b7fc",
   "metadata": {},
   "outputs": [],
   "source": [
    "Greatest_Increase = data_file_df['Difference_between_PL'].max()"
   ]
  },
  {
   "cell_type": "code",
   "execution_count": null,
   "id": "56514038",
   "metadata": {},
   "outputs": [],
   "source": [
    "Greatest_Increase"
   ]
  },
  {
   "cell_type": "code",
   "execution_count": null,
   "id": "ad542355",
   "metadata": {},
   "outputs": [],
   "source": [
    "Greatest_Increase = round(int(Greatest_Increase))"
   ]
  },
  {
   "cell_type": "code",
   "execution_count": null,
   "id": "378554c4",
   "metadata": {},
   "outputs": [],
   "source": [
    "print(\"$\", Greatest_Increase, data_file_df.loc[data_file_df[\"Difference_between_PL\"]== 1862002.0, \"Date\"].values[0])"
   ]
  },
  {
   "cell_type": "code",
   "execution_count": null,
   "id": "fbf0b2b4",
   "metadata": {},
   "outputs": [],
   "source": [
    "# Greatest decrease in profits (date and amount) over the entire period"
   ]
  },
  {
   "cell_type": "code",
   "execution_count": null,
   "id": "a87cbaff",
   "metadata": {},
   "outputs": [],
   "source": [
    "Greatest_decrease = data_file_df['Difference_between_PL'].min()"
   ]
  },
  {
   "cell_type": "code",
   "execution_count": null,
   "id": "2ae264e9",
   "metadata": {},
   "outputs": [],
   "source": [
    "Greatest_decrease"
   ]
  },
  {
   "cell_type": "code",
   "execution_count": null,
   "id": "c39ad658",
   "metadata": {},
   "outputs": [],
   "source": [
    "Greatest_decrease = round(int(Greatest_decrease))"
   ]
  },
  {
   "cell_type": "code",
   "execution_count": null,
   "id": "bee735aa",
   "metadata": {},
   "outputs": [],
   "source": [
    "print(\"$\", Greatest_decrease, data_file_df.loc[data_file_df[\"Difference_between_PL\"]== -1825558.0, \"Date\"].values[0])"
   ]
  },
  {
   "cell_type": "code",
   "execution_count": null,
   "id": "190b3369",
   "metadata": {},
   "outputs": [],
   "source": [
    "output = (\n",
    "    \n",
    "    f'\" Financial Analysis\\n\"'\n",
    "    f'\" ---------------------------------\\n\"'\n",
    "    f'\" Total Months :{Total_Month}\\n\"'\n",
    "    f'\" Total: ${Total}\\n\"'\n",
    "    f'\" Average Change :${Average:.2f}\\n\"'\n",
    "    f'\" Greatest Increase in Profits:$ 1862002 Aug-16\\n\"'\n",
    "    f'\" Greatese decrease in Profits:$ -1825558 Feb-14 \\n\"')\n",
    "\n",
    "\n"
   ]
  },
  {
   "cell_type": "code",
   "execution_count": null,
   "id": "c3f00c6e",
   "metadata": {},
   "outputs": [],
   "source": [
    "#Print output to the terminal\n",
    "print(output)"
   ]
  },
  {
   "cell_type": "code",
   "execution_count": 33,
   "id": "1535ba5f",
   "metadata": {},
   "outputs": [],
   "source": [
    "with open('file.txt', \"w\") as txt_file:\n",
    "    txt_file.write(output)"
   ]
  },
  {
   "cell_type": "code",
   "execution_count": null,
   "id": "bd2b29f3",
   "metadata": {},
   "outputs": [],
   "source": []
  },
  {
   "cell_type": "code",
   "execution_count": null,
   "id": "5c9533fd",
   "metadata": {},
   "outputs": [],
   "source": []
  },
  {
   "cell_type": "code",
   "execution_count": null,
   "id": "0faa0d41",
   "metadata": {},
   "outputs": [],
   "source": []
  },
  {
   "cell_type": "code",
   "execution_count": null,
   "id": "3d0cb83a",
   "metadata": {},
   "outputs": [],
   "source": []
  },
  {
   "cell_type": "code",
   "execution_count": null,
   "id": "280f0bf1",
   "metadata": {},
   "outputs": [],
   "source": []
  },
  {
   "cell_type": "code",
   "execution_count": null,
   "id": "3ad14d0e",
   "metadata": {},
   "outputs": [],
   "source": []
  },
  {
   "cell_type": "code",
   "execution_count": null,
   "id": "1d134305",
   "metadata": {},
   "outputs": [],
   "source": []
  }
 ],
 "metadata": {
  "kernelspec": {
   "display_name": "Python 3 (ipykernel)",
   "language": "python",
   "name": "python3"
  },
  "language_info": {
   "codemirror_mode": {
    "name": "ipython",
    "version": 3
   },
   "file_extension": ".py",
   "mimetype": "text/x-python",
   "name": "python",
   "nbconvert_exporter": "python",
   "pygments_lexer": "ipython3",
   "version": "3.10.13"
  }
 },
 "nbformat": 4,
 "nbformat_minor": 5
}
