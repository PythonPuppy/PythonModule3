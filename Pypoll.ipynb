{
 "cells": [
  {
   "cell_type": "code",
   "execution_count": 1,
   "id": "743d4097",
   "metadata": {},
   "outputs": [],
   "source": [
    "#This file works on election_data. There are three columns , Ballot id,County ,Candidates.\n",
    "#The election results The total number of votes cast\n",
    "#1.A complete list of candidates who received votes\n",
    "#2.The percentage of votes each candidate won\n",
    "#3.The total number of votes each candidate won\n",
    "#4.The winner of the election based on popular vote"
   ]
  },
  {
   "cell_type": "code",
   "execution_count": 2,
   "id": "f5dcbbda",
   "metadata": {},
   "outputs": [],
   "source": [
    "import pandas as pd\n",
    "from pathlib import Path\n",
    "import os\n",
    "import csv"
   ]
  },
  {
   "cell_type": "code",
   "execution_count": 3,
   "id": "c5fa6bbb",
   "metadata": {},
   "outputs": [],
   "source": [
    "# Save the Path and Read the File "
   ]
  },
  {
   "cell_type": "code",
   "execution_count": 4,
   "id": "c4ae474e",
   "metadata": {},
   "outputs": [],
   "source": [
    "data_file = Path(\"election_data.csv\")\n",
    "output_file = (\"text1\")"
   ]
  },
  {
   "cell_type": "code",
   "execution_count": 7,
   "id": "558f2718",
   "metadata": {
    "scrolled": false
   },
   "outputs": [
    {
     "name": "stdout",
     "output_type": "stream",
     "text": [
      " \n",
      "  \n",
      "         Election Results\n",
      "------------------------------------------\n",
      "   Total Votes : 369711\n",
      "------------------------------------------\n",
      "Charles Casper Stockham : 23.0% ( 85213)\n",
      "------------------------------------------\n",
      "  \n",
      "Diana DeGette : 73.8% ( 272892)\n",
      "------------------------------------------\n",
      "  \n",
      "Raymon Anthony Doane : 3.1% ( 11606)\n",
      "------------------------------------------\n",
      "  \n",
      "The winner is : Diana DeGette\n",
      " \n",
      "------------------------------------------\n",
      "  \n"
     ]
    }
   ],
   "source": [
    "with open ('election_data.csv',newline = \"\") as csvfile:\n",
    "    csvreader = csv.reader(csvfile, delimiter = \",\")\n",
    "\n",
    "\n",
    "#Initialize the dictionary to hold candidate values \n",
    "\n",
    "    candidates ={}\n",
    "    total_ballots = 0\n",
    "    \n",
    "    next(csvreader)\n",
    "\n",
    "    for row in csvreader:\n",
    "        \n",
    "        \n",
    "        if row[2] not in candidates.keys():\n",
    "            candidates[row[2]] = 0\n",
    "        candidates[row[2]] = candidates[row[2]] +1\n",
    "                \n",
    "#Initialize the vote count\n",
    "\n",
    "                        \n",
    "    total_ballots=0\n",
    "\n",
    "    for ballots in candidates.values():\n",
    "        total_ballots = total_ballots + ballots\n",
    "            \n",
    "#output the file results\n",
    "\n",
    "with open(output_file, \"w\") as text_file:\n",
    "    print(\" \")\n",
    "    text_file.write(\" \\n\")\n",
    "    print(\"  \")\n",
    "    text_file.write(\" \\n\")\n",
    "    print(\"         Election Results\")\n",
    "    text_file.write(\"         Election Results\\n\")\n",
    "    print(\"------------------------------------------\")\n",
    "    text_file.write(\"------------------------------------------\\n\")\n",
    "    print(\"   Total Votes : \" + str(total_ballots))\n",
    "    text_file.write(\"   Total Votes : \" + str(total_ballots)+ \"\\n\")\n",
    "    print(\"------------------------------------------\")\n",
    "    text_file.write(\"------------------------------------------\\n\")\n",
    "\n",
    "\n",
    "    most_ballots = 0\n",
    "    for each, ballots in candidates.items():\n",
    "        rate = ballots/total_ballots\n",
    "        print(each + \" : \" + '{:.1%}'.format(ballots/total_ballots) + \" ( \" + str(ballots) + \")\")\n",
    "        text_file.write(each + \" : \" + '{:.1%}'.format(ballots/total_ballots) + \" ( \" + str(ballots) + \")\\n\")        \n",
    "        print(\"------------------------------------------\")\n",
    "        text_file.write(\"------------------------------------------\\n\")\n",
    "        print(\"  \")\n",
    "        text_file.write(\" \\n \")\n",
    "     \n",
    "\n",
    "\n",
    "        if candidates[each] > most_ballots:\n",
    "                winner = each\n",
    "                most_ballots = candidates[each]\n",
    "\n",
    "    print('The winner is : ' + winner) \n",
    "    text_file.write('The winner is : ' + winner + \"\\n\") \n",
    "    print(\" \")       \n",
    "    text_file.write(\"\\n \")\n",
    "    print(\"------------------------------------------\")\n",
    "    text_file.write(\"------------------------------------------\\n\")\n",
    "    print(\"  \")\n",
    "    text_file.write(\"  \\n\")\n",
    "    text_file.close()\n",
    "\n"
   ]
  },
  {
   "cell_type": "code",
   "execution_count": null,
   "id": "ffb6bcd9",
   "metadata": {},
   "outputs": [],
   "source": []
  },
  {
   "cell_type": "code",
   "execution_count": null,
   "id": "b4e5bc20",
   "metadata": {},
   "outputs": [],
   "source": []
  },
  {
   "cell_type": "code",
   "execution_count": null,
   "id": "f86eb18d",
   "metadata": {},
   "outputs": [],
   "source": []
  },
  {
   "cell_type": "code",
   "execution_count": null,
   "id": "f3f34a07",
   "metadata": {},
   "outputs": [],
   "source": []
  },
  {
   "cell_type": "code",
   "execution_count": null,
   "id": "f6fd8865",
   "metadata": {},
   "outputs": [],
   "source": []
  },
  {
   "cell_type": "code",
   "execution_count": null,
   "id": "7b7c546d",
   "metadata": {},
   "outputs": [],
   "source": []
  },
  {
   "cell_type": "code",
   "execution_count": null,
   "id": "a3e03980",
   "metadata": {},
   "outputs": [],
   "source": []
  },
  {
   "cell_type": "code",
   "execution_count": null,
   "id": "82f7c112",
   "metadata": {},
   "outputs": [],
   "source": []
  },
  {
   "cell_type": "code",
   "execution_count": null,
   "id": "e174f264",
   "metadata": {},
   "outputs": [],
   "source": []
  },
  {
   "cell_type": "code",
   "execution_count": null,
   "id": "6342c2db",
   "metadata": {},
   "outputs": [],
   "source": []
  },
  {
   "cell_type": "code",
   "execution_count": null,
   "id": "a847d0fb",
   "metadata": {},
   "outputs": [],
   "source": []
  },
  {
   "cell_type": "code",
   "execution_count": null,
   "id": "0514069a",
   "metadata": {},
   "outputs": [],
   "source": []
  },
  {
   "cell_type": "code",
   "execution_count": null,
   "id": "230e97d0",
   "metadata": {},
   "outputs": [],
   "source": []
  },
  {
   "cell_type": "code",
   "execution_count": null,
   "id": "153ed79f",
   "metadata": {},
   "outputs": [],
   "source": []
  },
  {
   "cell_type": "code",
   "execution_count": null,
   "id": "a5709166",
   "metadata": {},
   "outputs": [],
   "source": []
  },
  {
   "cell_type": "code",
   "execution_count": null,
   "id": "7f2808ba",
   "metadata": {},
   "outputs": [],
   "source": []
  },
  {
   "cell_type": "code",
   "execution_count": null,
   "id": "7fe6979b",
   "metadata": {},
   "outputs": [],
   "source": []
  },
  {
   "cell_type": "code",
   "execution_count": null,
   "id": "2e0297aa",
   "metadata": {},
   "outputs": [],
   "source": []
  },
  {
   "cell_type": "code",
   "execution_count": null,
   "id": "8743830e",
   "metadata": {},
   "outputs": [],
   "source": []
  },
  {
   "cell_type": "code",
   "execution_count": null,
   "id": "e5180991",
   "metadata": {},
   "outputs": [],
   "source": []
  },
  {
   "cell_type": "code",
   "execution_count": null,
   "id": "c204fb09",
   "metadata": {},
   "outputs": [],
   "source": []
  },
  {
   "cell_type": "code",
   "execution_count": null,
   "id": "20831117",
   "metadata": {},
   "outputs": [],
   "source": []
  },
  {
   "cell_type": "code",
   "execution_count": null,
   "id": "4f3bf568",
   "metadata": {},
   "outputs": [],
   "source": []
  },
  {
   "cell_type": "code",
   "execution_count": null,
   "id": "2be619cb",
   "metadata": {},
   "outputs": [],
   "source": []
  },
  {
   "cell_type": "code",
   "execution_count": null,
   "id": "8b1c567a",
   "metadata": {},
   "outputs": [],
   "source": []
  },
  {
   "cell_type": "code",
   "execution_count": null,
   "id": "5a535e7a",
   "metadata": {},
   "outputs": [],
   "source": []
  },
  {
   "cell_type": "code",
   "execution_count": null,
   "id": "a410cbfe",
   "metadata": {},
   "outputs": [],
   "source": []
  },
  {
   "cell_type": "code",
   "execution_count": null,
   "id": "c36657e4",
   "metadata": {},
   "outputs": [],
   "source": []
  },
  {
   "cell_type": "code",
   "execution_count": null,
   "id": "604e59dc",
   "metadata": {},
   "outputs": [],
   "source": []
  }
 ],
 "metadata": {
  "kernelspec": {
   "display_name": "Python 3 (ipykernel)",
   "language": "python",
   "name": "python3"
  },
  "language_info": {
   "codemirror_mode": {
    "name": "ipython",
    "version": 3
   },
   "file_extension": ".py",
   "mimetype": "text/x-python",
   "name": "python",
   "nbconvert_exporter": "python",
   "pygments_lexer": "ipython3",
   "version": "3.10.13"
  }
 },
 "nbformat": 4,
 "nbformat_minor": 5
}
